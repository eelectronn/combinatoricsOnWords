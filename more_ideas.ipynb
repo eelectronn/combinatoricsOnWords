{
 "cells": [
  {
   "cell_type": "code",
   "execution_count": 1,
   "metadata": {},
   "outputs": [],
   "source": [
    "import networkx as nx\n",
    "import itertools as it\n",
    "from pyvis.network import Network\n",
    "import math\n",
    "import utils"
   ]
  },
  {
   "cell_type": "code",
   "execution_count": 30,
   "metadata": {},
   "outputs": [],
   "source": [
    "n = 3\n",
    "k = 2\n",
    "alphabet = [str(_) for _ in range(k)]\n",
    "G = nx.DiGraph()\n",
    "nodes = [''.join(tup) for tup in list(it.product(alphabet, repeat=n))]\n",
    "edges = []\n",
    "for node in nodes:\n",
    "    for letter in alphabet:\n",
    "        edges.append((node, node[1:] + letter))\n",
    "G.add_nodes_from(nodes)\n",
    "G.add_edges_from(edges)"
   ]
  },
  {
   "cell_type": "code",
   "execution_count": 31,
   "metadata": {},
   "outputs": [
    {
     "name": "stdout",
     "output_type": "stream",
     "text": [
      "['000']\n",
      "['111']\n",
      "['110', '101', '011']\n",
      "['001', '010', '100']\n",
      "['101', '010']\n"
     ]
    }
   ],
   "source": [
    "cyc = utils.get_l_cycle(G, n)\n",
    "cyc = list(cyc)\n",
    "for c in cyc:\n",
    "    print(c)"
   ]
  },
  {
   "cell_type": "code",
   "execution_count": 32,
   "metadata": {},
   "outputs": [
    {
     "data": {
      "text/html": [
       "\n",
       "        <iframe\n",
       "            width=\"100%\"\n",
       "            height=\"800px\"\n",
       "            src=\"example.html\"\n",
       "            frameborder=\"0\"\n",
       "            allowfullscreen\n",
       "        ></iframe>\n",
       "        "
      ],
      "text/plain": [
       "<IPython.lib.display.IFrame at 0x10c763240>"
      ]
     },
     "execution_count": 32,
     "metadata": {},
     "output_type": "execute_result"
    }
   ],
   "source": [
    "cyc_edges = set()\n",
    "for c in cyc:\n",
    "    l = len(c)\n",
    "    for i in range(l):\n",
    "        cyc_edges.add((c[i], c[(i + 1) % l]))\n",
    "G.remove_edges_from(cyc_edges)\n",
    "utils.plot_graph(G)"
   ]
  },
  {
   "cell_type": "code",
   "execution_count": 33,
   "metadata": {},
   "outputs": [
    {
     "data": {
      "text/html": [
       "\n",
       "        <iframe\n",
       "            width=\"100%\"\n",
       "            height=\"800px\"\n",
       "            src=\"example.html\"\n",
       "            frameborder=\"0\"\n",
       "            allowfullscreen\n",
       "        ></iframe>\n",
       "        "
      ],
      "text/plain": [
       "<IPython.lib.display.IFrame at 0x10c753278>"
      ]
     },
     "execution_count": 33,
     "metadata": {},
     "output_type": "execute_result"
    }
   ],
   "source": [
    "G.add_edges_from(cyc_edges)\n",
    "no_cyc_edges = set()\n",
    "for e in G.edges:\n",
    "    if e not in cyc_edges:\n",
    "        no_cyc_edges.add(e)\n",
    "G.remove_edges_from(no_cyc_edges)\n",
    "utils.plot_graph(G)"
   ]
  },
  {
   "cell_type": "code",
   "execution_count": null,
   "metadata": {},
   "outputs": [],
   "source": []
  }
 ],
 "metadata": {
  "@webio": {
   "lastCommId": null,
   "lastKernelId": null
  },
  "kernelspec": {
   "display_name": "venv",
   "language": "python",
   "name": "venv"
  },
  "language_info": {
   "codemirror_mode": {
    "name": "ipython",
    "version": 3
   },
   "file_extension": ".py",
   "mimetype": "text/x-python",
   "name": "python",
   "nbconvert_exporter": "python",
   "pygments_lexer": "ipython3",
   "version": "3.7.3"
  }
 },
 "nbformat": 4,
 "nbformat_minor": 4
}
