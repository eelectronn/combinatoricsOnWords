{
 "cells": [
  {
   "cell_type": "code",
   "execution_count": null,
   "outputs": [],
   "source": [
    "import networkx as nx\n",
    "import itertools as it\n",
    "from pyvis.network import Network"
   ],
   "metadata": {
    "collapsed": false,
    "pycharm": {
     "name": "#%%\n"
    }
   }
  },
  {
   "cell_type": "markdown",
   "source": [
    "We'll make some De Bruijn graphs and look at some observations."
   ],
   "metadata": {
    "collapsed": false
   }
  },
  {
   "cell_type": "code",
   "execution_count": null,
   "outputs": [],
   "source": [
    "n = 3\n",
    "k = 2"
   ],
   "metadata": {
    "collapsed": false,
    "pycharm": {
     "name": "#%%\n"
    }
   }
  },
  {
   "cell_type": "code",
   "execution_count": null,
   "outputs": [],
   "source": [
    "alphabet = [str(_) for _ in range(k)]"
   ],
   "metadata": {
    "collapsed": false,
    "pycharm": {
     "name": "#%%\n"
    }
   }
  },
  {
   "cell_type": "code",
   "execution_count": null,
   "outputs": [],
   "source": [
    "G = nx.DiGraph()"
   ],
   "metadata": {
    "collapsed": false,
    "pycharm": {
     "name": "#%%\n"
    }
   }
  },
  {
   "cell_type": "code",
   "execution_count": null,
   "outputs": [],
   "source": [
    "nodes = [''.join(tup) for tup in list(it.product(alphabet, repeat=n))]\n",
    "print(nodes)"
   ],
   "metadata": {
    "collapsed": false,
    "pycharm": {
     "name": "#%%\n"
    }
   }
  },
  {
   "cell_type": "code",
   "execution_count": null,
   "outputs": [],
   "source": [
    "edges = []\n",
    "for node in nodes:\n",
    "    for letter in alphabet:\n",
    "        edges.append((node, node[1:]+letter))\n",
    "print(edges)"
   ],
   "metadata": {
    "collapsed": false,
    "pycharm": {
     "name": "#%%\n"
    }
   }
  },
  {
   "cell_type": "code",
   "execution_count": null,
   "outputs": [],
   "source": [
    "G.add_nodes_from(nodes)\n",
    "G.add_edges_from(edges)"
   ],
   "metadata": {
    "collapsed": false,
    "pycharm": {
     "name": "#%%\n"
    }
   }
  },
  {
   "cell_type": "code",
   "execution_count": null,
   "outputs": [],
   "source": [
    "# Optional. Run if you want an interactive graph drawing.\n",
    "net = Network(notebook=True, height='600px', width='600px', directed=True)\n",
    "net.from_nx(G)\n",
    "net.toggle_physics(False)\n",
    "net.show_buttons(filter_=['edges'])\n",
    "net.show('example.html')"
   ],
   "metadata": {
    "collapsed": false,
    "pycharm": {
     "name": "#%%\n"
    }
   }
  },
  {
   "cell_type": "markdown",
   "source": [
    "<img src=\"graph.png\">"
   ],
   "metadata": {
    "collapsed": false
   }
  },
  {
   "cell_type": "markdown",
   "source": [
    "We find all the $k-cycle$ in above graph such that $k < n$."
   ],
   "metadata": {
    "collapsed": false
   }
  },
  {
   "cell_type": "code",
   "execution_count": null,
   "outputs": [],
   "source": [
    "cyc = list(nx.algorithms.simple_cycles(G))\n",
    "for c in cyc:\n",
    "    if len(c) < n:\n",
    "        print(c)"
   ],
   "metadata": {
    "collapsed": false,
    "pycharm": {
     "name": "#%%\n"
    }
   }
  },
  {
   "cell_type": "markdown",
   "source": [
    "Out of all the possible words of length $n$. Only those that are parts of above cycles can be repeated."
   ],
   "metadata": {
    "collapsed": false
   }
  },
  {
   "cell_type": "markdown",
   "source": [
    "We can see similar thing for $n=4$"
   ],
   "metadata": {
    "collapsed": false
   }
  },
  {
   "cell_type": "code",
   "execution_count": null,
   "outputs": [],
   "source": [
    "n = 4\n",
    "G = nx.DiGraph()\n",
    "nodes = [''.join(tup) for tup in list(it.product(alphabet, repeat=n))]\n",
    "edges = []\n",
    "for node in nodes:\n",
    "    for letter in alphabet:\n",
    "        edges.append((node, node[1:]+letter))\n",
    "G.add_nodes_from(nodes)\n",
    "G.add_edges_from(edges)"
   ],
   "metadata": {
    "collapsed": false,
    "pycharm": {
     "name": "#%%\n"
    }
   }
  },
  {
   "cell_type": "code",
   "execution_count": null,
   "outputs": [],
   "source": [
    "print(nodes)"
   ],
   "metadata": {
    "collapsed": false,
    "pycharm": {
     "name": "#%%\n"
    }
   }
  },
  {
   "cell_type": "code",
   "execution_count": null,
   "outputs": [],
   "source": [
    "print(edges)"
   ],
   "metadata": {
    "collapsed": false,
    "pycharm": {
     "name": "#%%\n"
    }
   }
  },
  {
   "cell_type": "code",
   "execution_count": null,
   "outputs": [],
   "source": [
    "cyc = list(nx.algorithms.simple_cycles(G))\n",
    "for c in cyc:\n",
    "    if len(c) < n:\n",
    "        print(c)"
   ],
   "metadata": {
    "collapsed": false,
    "pycharm": {
     "name": "#%%\n"
    }
   }
  },
  {
   "cell_type": "markdown",
   "source": [
    "We see that the words that part of $k-cycle$ such that $k<n$ are the only ones that can be repeated. Also, these are border words."
   ],
   "metadata": {
    "collapsed": false
   }
  },
  {
   "cell_type": "markdown",
   "source": [
    "On of the construction of De Bruijn sequence involve finding a hamiltonian path in a $n$ dimensional De Bruijn graph. We can modify that construction to allow visiting the above mentioned vertices multiple time."
   ],
   "metadata": {
    "collapsed": false
   }
  },
  {
   "cell_type": "markdown",
   "source": [
    "Alternately, we can make $n-1$ dimensional De Bruijn graph and find all the $k-cycle$ with $k \\le n$ and instead of finding an Eulerian cycle that passes through all edges once, we find a circuit that passes through all edges exactly once except the edges that are part of mentioned $k-cycle$. Following is the example."
   ],
   "metadata": {
    "collapsed": false
   }
  },
  {
   "cell_type": "code",
   "execution_count": null,
   "outputs": [],
   "source": [
    "n = 3\n",
    "G = nx.DiGraph()\n",
    "nodes = [''.join(tup) for tup in list(it.product(alphabet, repeat=n))]\n",
    "edges = []\n",
    "for node in nodes:\n",
    "    for letter in alphabet:\n",
    "        edges.append((node, node[1:]+letter))\n",
    "G.add_nodes_from(nodes)\n",
    "G.add_edges_from(edges)"
   ],
   "metadata": {
    "collapsed": false,
    "pycharm": {
     "name": "#%%\n"
    }
   }
  },
  {
   "cell_type": "code",
   "execution_count": null,
   "outputs": [],
   "source": [
    "print(nodes)"
   ],
   "metadata": {
    "collapsed": false,
    "pycharm": {
     "name": "#%%\n"
    }
   }
  },
  {
   "cell_type": "code",
   "execution_count": null,
   "outputs": [],
   "source": [
    "print(edges)"
   ],
   "metadata": {
    "collapsed": false,
    "pycharm": {
     "name": "#%%\n"
    }
   }
  },
  {
   "cell_type": "code",
   "execution_count": null,
   "outputs": [],
   "source": [
    "cyc = list(nx.algorithms.simple_cycles(G))\n",
    "for c in cyc:\n",
    "    if len(c) <= n:\n",
    "        print(c)"
   ],
   "metadata": {
    "collapsed": false,
    "pycharm": {
     "name": "#%%\n"
    }
   }
  },
  {
   "cell_type": "markdown",
   "source": [
    "The notion of repeating edges can be thought of as having multiple edges. For this example what seem to be working is having $4$  edges for $000$ and $111$ cycle and $2$ for the rest of the cycles. So, we can add those edges."
   ],
   "metadata": {
    "collapsed": false
   }
  },
  {
   "cell_type": "code",
   "execution_count": null,
   "outputs": [],
   "source": [
    "G = nx.MultiDiGraph()\n",
    "nodes = [''.join(tup) for tup in list(it.product(alphabet, repeat=n))]\n",
    "edges = []\n",
    "for node in nodes:\n",
    "    for letter in alphabet:\n",
    "        edges.append((node, node[1:]+letter))\n",
    "G.add_nodes_from(nodes)\n",
    "G.add_edges_from(edges)\n",
    "\n",
    "more_edges = [('000', '000') for _ in range(3)]\n",
    "G.add_edges_from(more_edges)\n",
    "more_edges = [('111', '111') for _ in range(3)]\n",
    "G.add_edges_from(more_edges)\n",
    "v = ['001', '010', '100']\n",
    "G.add_edges_from([(v[i], v[(i+1)%len(v)]) for i in range(len(v))])\n",
    "v = ['011', '110', '101']\n",
    "G.add_edges_from([(v[i], v[(i+1)%len(v)]) for i in range(len(v))])"
   ],
   "metadata": {
    "collapsed": false,
    "pycharm": {
     "name": "#%%\n"
    }
   }
  },
  {
   "cell_type": "code",
   "execution_count": null,
   "outputs": [],
   "source": [
    "print(G.edges)"
   ],
   "metadata": {
    "collapsed": false,
    "pycharm": {
     "name": "#%%\n"
    }
   }
  },
  {
   "cell_type": "code",
   "execution_count": null,
   "outputs": [],
   "source": [
    "# Exporting and using Cytoscape to view graph as repeated edges are overlapping in pyvis.\n",
    "nx.write_gml(G, 'g.gml')"
   ],
   "metadata": {
    "collapsed": false,
    "pycharm": {
     "name": "#%%\n"
    }
   }
  },
  {
   "cell_type": "markdown",
   "source": [
    "<img src=\"multi.png\">"
   ],
   "metadata": {
    "collapsed": false
   }
  },
  {
   "cell_type": "markdown",
   "source": [
    "Edges are directed as given in previous graph, for some reason it's not rendering here.\n",
    "Now we traverse this graph to find the longest trail (repeating vertices but not edges). If we look the corresponding word in paper.\n",
    "$01010100100110110111111100000001$.\n",
    "We see that it starts at $010$. And progresses as $010-10100100110110111111100000001$ Here each letter after $010$ indicates the last letter of the vertex we are approaching as per De Bruijn graph."
   ],
   "metadata": {
    "collapsed": false
   }
  },
  {
   "cell_type": "markdown",
   "source": [
    "However, one thing I noticed is we can enter/exit any cycle exactly once. Meaning if we enter a cycle say at $010$ and we can traverce full cycle of $010-100-001$ at most twice, but if at any point, we get out of the cycle, then we cannot traverse a full cycle any more (partial is allowed) upon re-entry.\n",
    "\n",
    "Example:\n",
    "Let's start with $010$ we go to finish $010-100-001$ cycle twice, we get $010010010$. Here we have two instances of $0100$, $1001$ and $0010$, none disjoint.\n",
    "\n",
    "Now, let's try another way, where we tranverse cycle once, to get $010010$, now instead of traversing cycle again, we exit and re-entre that cycle. This can be done by visiting $101$ once, so we get $01001010$. Now since we exit cycle once and came back, we cannot complete a full cycle. We can visit $100$ and $001$ to get $0100101001$, but cannot come back to $010$ as that will complete the cycle and the obtained word will be $01001010010$ with two disjoint instance of $0010$."
   ],
   "metadata": {
    "collapsed": false
   }
  },
  {
   "cell_type": "markdown",
   "source": [
    "So, what I think can be done is we can construct a multiple edges graphs as mentioned and find the longest trail with restriction on cycles as mentioned above. I think that will give us the longest word with our properties. I tried looking for some algorithm that is polynomial time for such operations, so far I think there aren't any. But it's still looks better than brute-force."
   ],
   "metadata": {
    "collapsed": false
   }
  },
  {
   "cell_type": "markdown",
   "source": [
    "I'm not sure at the moment if this will lead us to some breakthrough. I'm currently thinking about some ways to avoid exit/entry into cycle, in terms of graph, or maybe in some other way to translate this problem to something else where is might be easier to work with. Also I'll work over some alteration of Lyndon word construction of De Bruijn sequence, and see if there is something we can do."
   ],
   "metadata": {
    "collapsed": false
   }
  }
 ],
 "metadata": {
  "kernelspec": {
   "display_name": "venv",
   "language": "python",
   "name": "venv"
  },
  "language_info": {
   "codemirror_mode": {
    "name": "ipython",
    "version": 3
   },
   "file_extension": ".py",
   "mimetype": "text/x-python",
   "name": "python",
   "nbconvert_exporter": "python",
   "pygments_lexer": "ipython3",
   "version": "3.7.4"
  }
 },
 "nbformat": 4,
 "nbformat_minor": 2
}