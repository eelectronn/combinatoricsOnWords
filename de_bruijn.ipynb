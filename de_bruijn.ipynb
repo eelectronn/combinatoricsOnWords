{
 "cells": [
  {
   "cell_type": "code",
   "execution_count": 1,
   "metadata": {
    "pycharm": {
     "name": "#%%\n"
    }
   },
   "outputs": [],
   "source": [
    "import networkx as nx\n",
    "import itertools as it\n",
    "from pyvis.network import Network"
   ]
  },
  {
   "cell_type": "markdown",
   "metadata": {},
   "source": [
    "We'll make some De Bruijn graphs and look at some observations."
   ]
  },
  {
   "cell_type": "code",
   "execution_count": 2,
   "metadata": {
    "pycharm": {
     "name": "#%%\n"
    }
   },
   "outputs": [],
   "source": [
    "n = 3\n",
    "k = 2"
   ]
  },
  {
   "cell_type": "code",
   "execution_count": 3,
   "metadata": {
    "pycharm": {
     "name": "#%%\n"
    }
   },
   "outputs": [],
   "source": [
    "alphabet = [str(_) for _ in range(k)]"
   ]
  },
  {
   "cell_type": "code",
   "execution_count": 4,
   "metadata": {
    "pycharm": {
     "name": "#%%\n"
    }
   },
   "outputs": [],
   "source": [
    "G = nx.DiGraph()"
   ]
  },
  {
   "cell_type": "code",
   "execution_count": 5,
   "metadata": {
    "pycharm": {
     "name": "#%%\n"
    }
   },
   "outputs": [
    {
     "name": "stdout",
     "output_type": "stream",
     "text": [
      "['000', '001', '010', '011', '100', '101', '110', '111']\n"
     ]
    }
   ],
   "source": [
    "nodes = [''.join(tup) for tup in list(it.product(alphabet, repeat=n))]\n",
    "print(nodes)"
   ]
  },
  {
   "cell_type": "code",
   "execution_count": 6,
   "metadata": {
    "pycharm": {
     "name": "#%%\n"
    }
   },
   "outputs": [
    {
     "name": "stdout",
     "output_type": "stream",
     "text": [
      "[('000', '000'), ('000', '001'), ('001', '010'), ('001', '011'), ('010', '100'), ('010', '101'), ('011', '110'), ('011', '111'), ('100', '000'), ('100', '001'), ('101', '010'), ('101', '011'), ('110', '100'), ('110', '101'), ('111', '110'), ('111', '111')]\n"
     ]
    }
   ],
   "source": [
    "edges = []\n",
    "for node in nodes:\n",
    "    for letter in alphabet:\n",
    "        edges.append((node, node[1:]+letter))\n",
    "print(edges)"
   ]
  },
  {
   "cell_type": "code",
   "execution_count": 7,
   "metadata": {
    "pycharm": {
     "name": "#%%\n"
    }
   },
   "outputs": [],
   "source": [
    "G.add_nodes_from(nodes)\n",
    "G.add_edges_from(edges)"
   ]
  },
  {
   "cell_type": "code",
   "execution_count": 8,
   "metadata": {
    "pycharm": {
     "name": "#%%\n"
    }
   },
   "outputs": [],
   "source": [
    "# Optional. Run if you want an interactive graph drawing.\n",
    "def plot_graph(G):\n",
    "    net = Network(notebook=True, height='600px', width='600px', directed=True)\n",
    "    net.from_nx(G)\n",
    "    net.toggle_physics(False)\n",
    "    net.show_buttons(filter_=['edges'])\n",
    "    return net.show('example.html')\n",
    "# plot_graph(G)"
   ]
  },
  {
   "cell_type": "markdown",
   "metadata": {},
   "source": [
    "We find all the $k-cycle$ in above graph such that $k < n$."
   ]
  },
  {
   "cell_type": "code",
   "execution_count": 9,
   "metadata": {
    "pycharm": {
     "name": "#%%\n"
    }
   },
   "outputs": [
    {
     "name": "stdout",
     "output_type": "stream",
     "text": [
      "['000']\n",
      "['111']\n",
      "['101', '010']\n"
     ]
    }
   ],
   "source": [
    "cyc = list(nx.algorithms.simple_cycles(G))\n",
    "for c in cyc:\n",
    "    if len(c) < n:\n",
    "        print(c)"
   ]
  },
  {
   "cell_type": "markdown",
   "metadata": {},
   "source": [
    "Out of all the possible words of length $n$. Only those that are parts of above cycles can be repeated."
   ]
  },
  {
   "cell_type": "markdown",
   "metadata": {},
   "source": [
    "We can see similar thing for $n=4$"
   ]
  },
  {
   "cell_type": "code",
   "execution_count": 10,
   "metadata": {
    "pycharm": {
     "name": "#%%\n"
    }
   },
   "outputs": [],
   "source": [
    "n = 4\n",
    "G = nx.DiGraph()\n",
    "nodes = [''.join(tup) for tup in list(it.product(alphabet, repeat=n))]\n",
    "edges = []\n",
    "for node in nodes:\n",
    "    for letter in alphabet:\n",
    "        edges.append((node, node[1:]+letter))\n",
    "G.add_nodes_from(nodes)\n",
    "G.add_edges_from(edges)"
   ]
  },
  {
   "cell_type": "code",
   "execution_count": 11,
   "metadata": {
    "pycharm": {
     "name": "#%%\n"
    }
   },
   "outputs": [
    {
     "name": "stdout",
     "output_type": "stream",
     "text": [
      "['0000', '0001', '0010', '0011', '0100', '0101', '0110', '0111', '1000', '1001', '1010', '1011', '1100', '1101', '1110', '1111']\n"
     ]
    }
   ],
   "source": [
    "print(nodes)"
   ]
  },
  {
   "cell_type": "code",
   "execution_count": 12,
   "metadata": {
    "pycharm": {
     "name": "#%%\n"
    }
   },
   "outputs": [
    {
     "name": "stdout",
     "output_type": "stream",
     "text": [
      "[('0000', '0000'), ('0000', '0001'), ('0001', '0010'), ('0001', '0011'), ('0010', '0100'), ('0010', '0101'), ('0011', '0110'), ('0011', '0111'), ('0100', '1000'), ('0100', '1001'), ('0101', '1010'), ('0101', '1011'), ('0110', '1100'), ('0110', '1101'), ('0111', '1110'), ('0111', '1111'), ('1000', '0000'), ('1000', '0001'), ('1001', '0010'), ('1001', '0011'), ('1010', '0100'), ('1010', '0101'), ('1011', '0110'), ('1011', '0111'), ('1100', '1000'), ('1100', '1001'), ('1101', '1010'), ('1101', '1011'), ('1110', '1100'), ('1110', '1101'), ('1111', '1110'), ('1111', '1111')]\n"
     ]
    }
   ],
   "source": [
    "print(edges)"
   ]
  },
  {
   "cell_type": "code",
   "execution_count": 13,
   "metadata": {
    "pycharm": {
     "name": "#%%\n"
    }
   },
   "outputs": [
    {
     "name": "stdout",
     "output_type": "stream",
     "text": [
      "['0000']\n",
      "['1111']\n",
      "['1001', '0010', '0100']\n",
      "['0101', '1010']\n",
      "['1011', '0110', '1101']\n"
     ]
    }
   ],
   "source": [
    "cyc = list(nx.algorithms.simple_cycles(G))\n",
    "for c in cyc:\n",
    "    if len(c) < n:\n",
    "        print(c)"
   ]
  },
  {
   "cell_type": "markdown",
   "metadata": {},
   "source": [
    "We see that the words that part of $k-cycle$ such that $k<n$ are the only ones that can be repeated. Also, these are border words."
   ]
  },
  {
   "cell_type": "markdown",
   "metadata": {},
   "source": [
    "On of the construction of De Bruijn sequence involve finding a hamiltonian path in a $n$ dimensional De Bruijn graph. We can modify that construction to allow visiting the above mentioned vertices multiple time."
   ]
  },
  {
   "cell_type": "markdown",
   "metadata": {},
   "source": [
    "Alternately, we can make $n-1$ dimensional De Bruijn graph and find all the $k-cycle$ with $k \\le n$ and instead of finding an Eulerian cycle that passes through all edges once, we find a circuit that passes through all edges exactly once except the edges that are part of mentioned $k-cycle$. Following is the example."
   ]
  },
  {
   "cell_type": "code",
   "execution_count": 14,
   "metadata": {
    "pycharm": {
     "name": "#%%\n"
    }
   },
   "outputs": [],
   "source": [
    "n = 3\n",
    "G = nx.DiGraph()\n",
    "nodes = [''.join(tup) for tup in list(it.product(alphabet, repeat=n))]\n",
    "edges = []\n",
    "for node in nodes:\n",
    "    for letter in alphabet:\n",
    "        edges.append((node, node[1:]+letter))\n",
    "G.add_nodes_from(nodes)\n",
    "G.add_edges_from(edges)"
   ]
  },
  {
   "cell_type": "code",
   "execution_count": 15,
   "metadata": {
    "pycharm": {
     "name": "#%%\n"
    }
   },
   "outputs": [
    {
     "name": "stdout",
     "output_type": "stream",
     "text": [
      "['000', '001', '010', '011', '100', '101', '110', '111']\n"
     ]
    }
   ],
   "source": [
    "print(nodes)"
   ]
  },
  {
   "cell_type": "code",
   "execution_count": 16,
   "metadata": {
    "pycharm": {
     "name": "#%%\n"
    }
   },
   "outputs": [
    {
     "name": "stdout",
     "output_type": "stream",
     "text": [
      "[('000', '000'), ('000', '001'), ('001', '010'), ('001', '011'), ('010', '100'), ('010', '101'), ('011', '110'), ('011', '111'), ('100', '000'), ('100', '001'), ('101', '010'), ('101', '011'), ('110', '100'), ('110', '101'), ('111', '110'), ('111', '111')]\n"
     ]
    }
   ],
   "source": [
    "print(edges)"
   ]
  },
  {
   "cell_type": "code",
   "execution_count": 17,
   "metadata": {
    "pycharm": {
     "name": "#%%\n"
    }
   },
   "outputs": [
    {
     "name": "stdout",
     "output_type": "stream",
     "text": [
      "['000']\n",
      "['111']\n",
      "['011', '110', '101']\n",
      "['100', '001', '010']\n",
      "['101', '010']\n"
     ]
    }
   ],
   "source": [
    "def print_l_cycle(G, l):\n",
    "    cyc = nx.algorithms.simple_cycles(G)\n",
    "    for c in cyc:\n",
    "        if len(c) <= l:\n",
    "            print(c)\n",
    "print_l_cycle(G, n)"
   ]
  },
  {
   "cell_type": "markdown",
   "metadata": {},
   "source": [
    "The notion of repeating edges can be thought of as having multiple edges. For this example what seem to be working is having $4$  edges for $000$ and $111$ cycle and $2$ for the rest of the cycles. So, we can add those edges."
   ]
  },
  {
   "cell_type": "code",
   "execution_count": 18,
   "metadata": {
    "pycharm": {
     "name": "#%%\n"
    }
   },
   "outputs": [
    {
     "data": {
      "text/plain": [
       "[1, 1, 1]"
      ]
     },
     "execution_count": 18,
     "metadata": {},
     "output_type": "execute_result"
    }
   ],
   "source": [
    "G = nx.MultiDiGraph()\n",
    "nodes = [''.join(tup) for tup in list(it.product(alphabet, repeat=n))]\n",
    "edges = []\n",
    "for node in nodes:\n",
    "    for letter in alphabet:\n",
    "        edges.append((node, node[1:]+letter))\n",
    "G.add_nodes_from(nodes)\n",
    "G.add_edges_from(edges)\n",
    "\n",
    "more_edges = [('000', '000') for _ in range(3)]\n",
    "G.add_edges_from(more_edges)\n",
    "more_edges = [('111', '111') for _ in range(3)]\n",
    "G.add_edges_from(more_edges)\n",
    "v = ['001', '010', '100']\n",
    "G.add_edges_from([(v[i], v[(i+1)%len(v)]) for i in range(len(v))])\n",
    "v = ['011', '110', '101']\n",
    "G.add_edges_from([(v[i], v[(i+1)%len(v)]) for i in range(len(v))])"
   ]
  },
  {
   "cell_type": "code",
   "execution_count": 19,
   "metadata": {
    "pycharm": {
     "name": "#%%\n"
    }
   },
   "outputs": [
    {
     "name": "stdout",
     "output_type": "stream",
     "text": [
      "[('000', '000', 0), ('000', '000', 1), ('000', '000', 2), ('000', '000', 3), ('000', '001', 0), ('001', '010', 0), ('001', '010', 1), ('001', '011', 0), ('010', '100', 0), ('010', '100', 1), ('010', '101', 0), ('011', '110', 0), ('011', '110', 1), ('011', '111', 0), ('100', '000', 0), ('100', '001', 0), ('100', '001', 1), ('101', '010', 0), ('101', '011', 0), ('101', '011', 1), ('110', '100', 0), ('110', '101', 0), ('110', '101', 1), ('111', '110', 0), ('111', '111', 0), ('111', '111', 1), ('111', '111', 2), ('111', '111', 3)]\n"
     ]
    }
   ],
   "source": [
    "print(G.edges)"
   ]
  },
  {
   "cell_type": "code",
   "execution_count": 20,
   "metadata": {
    "pycharm": {
     "name": "#%%\n"
    }
   },
   "outputs": [],
   "source": [
    "# Exporting and using Cytoscape to view graph as repeated edges are overlapping in pyvis.\n",
    "nx.write_gml(G, 'g.gml')"
   ]
  },
  {
   "cell_type": "markdown",
   "metadata": {},
   "source": [
    "Edges are directed as given in previous graph, for some reason it's not rendering here.\n",
    "Now we traverse this graph to find the longest trail (repeating vertices but not edges). If we look the corresponding word in paper.\n",
    "$01010100100110110111111100000001$.\n",
    "We see that it starts at $010$. And progresses as $010-10100100110110111111100000001$ Here each letter after $010$ indicates the last letter of the vertex we are approaching as per De Bruijn graph."
   ]
  },
  {
   "cell_type": "markdown",
   "metadata": {},
   "source": [
    "However, one thing I noticed is we can enter/exit any cycle exactly once. Meaning if we enter a cycle say at $010$ and we can traverce full cycle of $010-100-001$ at most twice, but if at any point, we get out of the cycle, then we cannot traverse a full cycle any more (partial is allowed) upon re-entry.\n",
    "\n",
    "Example:\n",
    "Let's start with $010$ we go to finish $010-100-001$ cycle twice, we get $010010010$. Here we have two instances of $0100$, $1001$ and $0010$, none disjoint.\n",
    "\n",
    "Now, let's try another way, where we tranverse cycle once, to get $010010$, now instead of traversing cycle again, we exit and re-entre that cycle. This can be done by visiting $101$ once, so we get $01001010$. Now since we exit cycle once and came back, we cannot complete a full cycle. We can visit $100$ and $001$ to get $0100101001$, but cannot come back to $010$ as that will complete the cycle and the obtained word will be $01001010010$ with two disjoint instance of $0010$."
   ]
  },
  {
   "cell_type": "markdown",
   "metadata": {},
   "source": [
    "So, what I think can be done is we can construct a multiple edges graphs as mentioned and find the longest trail with restriction on cycles as mentioned above. I think that will give us the longest word with our properties. I tried looking for some algorithm that is polynomial time for such operations, so far I think there aren't any. But it's still looks better than brute-force."
   ]
  },
  {
   "cell_type": "markdown",
   "metadata": {},
   "source": [
    "I'm not sure at the moment if this will lead us to some breakthrough. I'm currently thinking about some ways to avoid exit/entry into cycle, in terms of graph, or maybe in some other way to translate this problem to something else where is might be easier to work with. Also I'll work over some alteration of Lyndon word construction of De Bruijn sequence, and see if there is something we can do."
   ]
  },
  {
   "cell_type": "code",
   "execution_count": 21,
   "metadata": {},
   "outputs": [],
   "source": [
    "n = 5\n",
    "k = 2\n",
    "G = nx.MultiDiGraph()\n",
    "alphabet = [str(_) for _ in range(k)]\n",
    "nodes = [''.join(tup) for tup in list(it.product(alphabet, repeat=n))]\n",
    "G.add_nodes_from(nodes)\n",
    "for node in nodes:\n",
    "    for letter in alphabet:\n",
    "        G.add_edge(node, node[1:]+letter, weight=node+letter)"
   ]
  },
  {
   "cell_type": "code",
   "execution_count": 22,
   "metadata": {},
   "outputs": [
    {
     "name": "stdout",
     "output_type": "stream",
     "text": [
      "['00000']\n",
      "['11111']\n",
      "['00111', '01110', '11100', '11001', '10011']\n",
      "['11001', '10011', '00110', '01100']\n",
      "['01111', '11110', '11101', '11011', '10111']\n",
      "['01110', '11101', '11011', '10111']\n",
      "['00010', '00100', '01000', '10001']\n",
      "['00010', '00100', '01000', '10000', '00001']\n",
      "['00110', '01100', '11000', '10001', '00011']\n",
      "['01010', '10101']\n",
      "['01010', '10100', '01001', '10010', '00101']\n",
      "['10110', '01101', '11011']\n",
      "['10110', '01101', '11010', '10101', '01011']\n",
      "['01001', '10010', '00100']\n"
     ]
    }
   ],
   "source": [
    "print_l_cycle(G, n)"
   ]
  },
  {
   "cell_type": "code",
   "execution_count": null,
   "metadata": {},
   "outputs": [],
   "source": []
  }
 ],
 "metadata": {
  "kernelspec": {
   "display_name": "venv",
   "language": "python",
   "name": "venv"
  },
  "language_info": {
   "codemirror_mode": {
    "name": "ipython",
    "version": 3
   },
   "file_extension": ".py",
   "mimetype": "text/x-python",
   "name": "python",
   "nbconvert_exporter": "python",
   "pygments_lexer": "ipython3",
   "version": "3.7.3"
  }
 },
 "nbformat": 4,
 "nbformat_minor": 2
}
