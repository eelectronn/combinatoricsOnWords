{
 "cells": [
  {
   "cell_type": "markdown",
   "metadata": {},
   "source": [
    "Now we know that all vertices in $n$-dimensional De Bruijn graph will be part of at least one $k-cycle$ where $k \\le n$. Further, given a vertex (word), we can list all the cycles that it will be a part of."
   ]
  },
  {
   "cell_type": "markdown",
   "metadata": {},
   "source": [
    "We take any word of length $n$ and list all the words that are formed by a cyclic shift of $1$. We stop right before we get our original word back. It can be see that we need atmost $n$ shifts to obtain back the original word. This forms one of the cycle that this word is part of with the length of the cycle atmost $n$."
   ]
  },
  {
   "cell_type": "code",
   "execution_count": 2,
   "metadata": {},
   "outputs": [],
   "source": [
    "import networkx as nx\n",
    "import itertools as it\n",
    "from pyvis.network import Network\n",
    "import math"
   ]
  },
  {
   "cell_type": "code",
   "execution_count": 3,
   "metadata": {},
   "outputs": [],
   "source": [
    "n = 5\n",
    "k = 2\n",
    "alphabet = [str(_) for _ in range(k)]\n",
    "G = nx.DiGraph()\n",
    "nodes = [''.join(tup) for tup in list(it.product(alphabet, repeat=n))]\n",
    "edges = []\n",
    "for node in nodes:\n",
    "    for letter in alphabet:\n",
    "        edges.append((node, node[1:] + letter))\n",
    "G.add_nodes_from(nodes)\n",
    "G.add_edges_from(edges)"
   ]
  },
  {
   "cell_type": "code",
   "execution_count": 4,
   "metadata": {},
   "outputs": [],
   "source": [
    "def get_l_cycle(G, l):\n",
    "    cyc = nx.algorithms.simple_cycles(G)\n",
    "    for c in cyc:\n",
    "        if len(c) <= l:\n",
    "            yield c"
   ]
  },
  {
   "cell_type": "code",
   "execution_count": 5,
   "metadata": {},
   "outputs": [
    {
     "name": "stdout",
     "output_type": "stream",
     "text": [
      "['00000']\n",
      "['11111']\n",
      "['01111', '11110', '11101', '11011', '10111']\n",
      "['00010', '00100', '01000', '10001']\n",
      "['00010', '00100', '01000', '10000', '00001']\n",
      "['10010', '00101', '01010', '10100', '01001']\n",
      "['10010', '00100', '01001']\n",
      "['01011', '10110', '01101', '11010', '10101']\n",
      "['11000', '10001', '00011', '00110', '01100']\n",
      "['01010', '10101']\n",
      "['00111', '01110', '11100', '11001', '10011']\n",
      "['11011', '10111', '01110', '11101']\n",
      "['11011', '10110', '01101']\n",
      "['00110', '01100', '11001', '10011']\n"
     ]
    }
   ],
   "source": [
    "cyc = get_l_cycle(G, n)\n",
    "cyc = list(cyc)\n",
    "for c in cyc:\n",
    "    print(c)"
   ]
  },
  {
   "cell_type": "code",
   "execution_count": 94,
   "metadata": {},
   "outputs": [
    {
     "name": "stdout",
     "output_type": "stream",
     "text": [
      "00000 1\n",
      "00001 1\n",
      "00010 2\n",
      "00011 1\n",
      "00100 3\n",
      "00101 1\n",
      "00110 2\n",
      "00111 1\n",
      "01000 2\n",
      "01001 2\n",
      "01010 2\n",
      "01011 1\n",
      "01100 2\n",
      "01101 2\n",
      "01110 2\n",
      "01111 1\n",
      "10000 1\n",
      "10001 2\n",
      "10010 2\n",
      "10011 2\n",
      "10100 1\n",
      "10101 2\n",
      "10110 2\n",
      "10111 2\n",
      "11000 1\n",
      "11001 2\n",
      "11010 1\n",
      "11011 3\n",
      "11100 1\n",
      "11101 2\n",
      "11110 1\n",
      "11111 1\n"
     ]
    }
   ],
   "source": [
    "node_cyc = dict()\n",
    "for c in cyc:\n",
    "    for node in c:\n",
    "        if node in node_cyc:\n",
    "            node_cyc[node].append(c)\n",
    "        else:\n",
    "            node_cyc[node] = [c]\n",
    "            \n",
    "for node in nodes:\n",
    "    print(node, str(len(node_cyc[node])))"
   ]
  },
  {
   "cell_type": "code",
   "execution_count": 95,
   "metadata": {},
   "outputs": [],
   "source": [
    "def period_of_word(w):\n",
    "    n = len(w)\n",
    "    if w == ''.join([str(i%2) for i in range(n)]) or w == ''.join([str((i+1)%2) for i in range(n)]):\n",
    "        return 2\n",
    "    return 1"
   ]
  },
  {
   "cell_type": "code",
   "execution_count": 96,
   "metadata": {},
   "outputs": [],
   "source": [
    "n = 4\n",
    "nodes = [''.join(tup) for tup in list(it.product(alphabet, repeat=4))]"
   ]
  },
  {
   "cell_type": "code",
   "execution_count": 97,
   "metadata": {},
   "outputs": [
    {
     "name": "stdout",
     "output_type": "stream",
     "text": [
      "('0000', 1)\n",
      "('0001', 1)\n",
      "('0010', 1)\n",
      "('0011', 1)\n",
      "('0100', 1)\n",
      "('0101', 2)\n",
      "('0110', 1)\n",
      "('0111', 1)\n",
      "('1000', 1)\n",
      "('1001', 1)\n",
      "('1010', 2)\n",
      "('1011', 1)\n",
      "('1100', 1)\n",
      "('1101', 1)\n",
      "('1110', 1)\n",
      "('1111', 1)\n"
     ]
    }
   ],
   "source": [
    "for w in nodes:\n",
    "    print((w, period_of_word(w)))"
   ]
  },
  {
   "cell_type": "code",
   "execution_count": 98,
   "metadata": {},
   "outputs": [
    {
     "name": "stdout",
     "output_type": "stream",
     "text": [
      "63\n"
     ]
    }
   ],
   "source": [
    "c = n - 1\n",
    "for w in nodes:\n",
    "    c += math.ceil(n/period_of_word(w))\n",
    "print(c)"
   ]
  },
  {
   "cell_type": "code",
   "execution_count": 99,
   "metadata": {},
   "outputs": [
    {
     "name": "stdout",
     "output_type": "stream",
     "text": [
      "['01001', '10010', '00100']\n",
      "['00001', '00010', '00100', '01000', '10000']\n",
      "['10001', '00010', '00100', '01000']\n"
     ]
    }
   ],
   "source": [
    "for c in node_cyc['00100']:\n",
    "    print(c)"
   ]
  },
  {
   "cell_type": "code",
   "execution_count": 1,
   "metadata": {},
   "outputs": [],
   "source": [
    "def no_duplicates(s, n):\n",
    "    m = len(s)\n",
    "    for i in range(m-2*n):\n",
    "        for j in range(i+n, m-n):\n",
    "            if s[i:i+n] == s[j:j+n]:\n",
    "                return False\n",
    "    return True"
   ]
  },
  {
   "cell_type": "code",
   "execution_count": 4,
   "metadata": {},
   "outputs": [
    {
     "data": {
      "text/plain": [
       "True"
      ]
     },
     "execution_count": 4,
     "metadata": {},
     "output_type": "execute_result"
    }
   ],
   "source": [
    "no_duplicates('00000000000001010101010101101010010100101000101100101100101110101110101111010011010011010000100100100100111011011011011000100011011100100000110011001100001110001110001111001111001111101111101111111111111000000', 7) "
   ]
  },
  {
   "cell_type": "code",
   "execution_count": 2,
   "metadata": {},
   "outputs": [],
   "source": [
    "def duplicatable(s, n):\n",
    "    print(s)\n",
    "    m = len(s)\n",
    "    for i in range(m):\n",
    "        for j in range(i+1, min(i+n, m+1)):\n",
    "            new_s = s[:i] + s[i:j] + s[i:]\n",
    "            if no_duplicates(new_s, n):\n",
    "                print(s[i:j], i, j)"
   ]
  },
  {
   "cell_type": "code",
   "execution_count": 3,
   "metadata": {},
   "outputs": [],
   "source": [
    "w = '0000100110101111'"
   ]
  },
  {
   "cell_type": "code",
   "execution_count": 4,
   "metadata": {
    "scrolled": false
   },
   "outputs": [
    {
     "name": "stdout",
     "output_type": "stream",
     "text": [
      "0000100110101111\n",
      "0 0 1\n",
      "00 0 2\n",
      "000 0 3\n",
      "0 1 2\n",
      "00 1 3\n",
      "000 1 4\n",
      "0 2 3\n",
      "00 2 4\n",
      "001 2 5\n",
      "0 3 4\n",
      "010 3 6\n",
      "100 4 7\n",
      "001 5 8\n",
      "10 8 10\n",
      "01 9 11\n",
      "1 10 11\n",
      "10 10 12\n",
      "01 11 13\n",
      "1 12 13\n",
      "11 12 14\n",
      "111 12 15\n",
      "1 13 14\n",
      "11 13 15\n",
      "111 13 16\n",
      "1 14 15\n",
      "11 14 16\n",
      "1 15 16\n"
     ]
    }
   ],
   "source": [
    "duplicatable(w, 4)"
   ]
  },
  {
   "cell_type": "code",
   "execution_count": 17,
   "metadata": {},
   "outputs": [],
   "source": [
    "w = '000000100001100011100111101000101001011001001101101010111011111100000'"
   ]
  },
  {
   "cell_type": "code",
   "execution_count": 20,
   "metadata": {},
   "outputs": [
    {
     "name": "stdout",
     "output_type": "stream",
     "text": [
      "0000100110101111\n",
      "0 0 1\n",
      "00 0 2\n",
      "000 0 3\n",
      "0000 0 4\n",
      "00001 0 5\n",
      "0 1 2\n",
      "00 1 3\n",
      "000 1 4\n",
      "0001 1 5\n",
      "00010 1 6\n",
      "0 2 3\n",
      "00 2 4\n",
      "001 2 5\n",
      "0010 2 6\n",
      "00100 2 7\n",
      "0 3 4\n",
      "01 3 5\n",
      "010 3 6\n",
      "0100 3 7\n",
      "01001 3 8\n",
      "1 4 5\n",
      "10 4 6\n",
      "100 4 7\n",
      "1001 4 8\n",
      "10011 4 9\n",
      "0 5 6\n",
      "00 5 7\n",
      "001 5 8\n",
      "0011 5 9\n",
      "00110 5 10\n",
      "0 6 7\n",
      "01 6 8\n",
      "011 6 9\n",
      "0110 6 10\n",
      "01101 6 11\n",
      "1 7 8\n",
      "11 7 9\n",
      "110 7 10\n",
      "1101 7 11\n",
      "11010 7 12\n",
      "1 8 9\n",
      "10 8 10\n",
      "101 8 11\n",
      "1010 8 12\n",
      "10101 8 13\n",
      "0 9 10\n",
      "01 9 11\n",
      "010 9 12\n",
      "0101 9 13\n",
      "01011 9 14\n",
      "1 10 11\n",
      "10 10 12\n",
      "101 10 13\n",
      "1011 10 14\n",
      "10111 10 15\n",
      "01 11 13\n",
      "011 11 14\n",
      "0111 11 15\n",
      "01111 11 16\n",
      "1 12 13\n",
      "11 12 14\n",
      "111 12 15\n",
      "1111 12 16\n",
      "1 13 14\n",
      "11 13 15\n",
      "111 13 16\n",
      "1 14 15\n",
      "11 14 16\n",
      "1 15 16\n"
     ]
    }
   ],
   "source": [
    "duplicatable(w, 6)"
   ]
  },
  {
   "cell_type": "code",
   "execution_count": 19,
   "metadata": {},
   "outputs": [
    {
     "name": "stdout",
     "output_type": "stream",
     "text": [
      "0000100110101111\n",
      "0 0 1\n",
      "00 0 2\n",
      "000 0 3\n",
      "0 1 2\n",
      "00 1 3\n",
      "000 1 4\n",
      "0 2 3\n",
      "00 2 4\n",
      "001 2 5\n",
      "0 3 4\n",
      "010 3 6\n",
      "100 4 7\n",
      "001 5 8\n",
      "10 8 10\n",
      "01 9 11\n",
      "1 10 11\n",
      "10 10 12\n",
      "01 11 13\n",
      "1 12 13\n",
      "11 12 14\n",
      "111 12 15\n",
      "1 13 14\n",
      "11 13 15\n",
      "111 13 16\n",
      "1 14 15\n",
      "11 14 16\n",
      "1 15 16\n"
     ]
    }
   ],
   "source": [
    "w = '0000100110101111'\n",
    "duplicatable(w, 4)"
   ]
  },
  {
   "cell_type": "code",
   "execution_count": 48,
   "metadata": {},
   "outputs": [
    {
     "name": "stdout",
     "output_type": "stream",
     "text": [
      "000 000 1\n",
      "000 000 2\n",
      "000 000 1\n",
      "000 000 2\n",
      "000 000 1\n",
      "000 000 2\n",
      "000 001 1\n",
      "000 001 2\n",
      "000 001 1\n",
      "000 001 2\n",
      "000 001 1\n",
      "000 001 2\n",
      "000 010 1\n",
      "000 010 1\n",
      "000 010 1\n",
      "001 010 2\n",
      "001 101 1\n",
      "010 101 2\n",
      "000 010 1\n",
      "000 010 1\n",
      "000 010 1\n",
      "001 010 2\n",
      "010 010 1\n",
      "101 010 2\n",
      "001 101 1\n",
      "010 101 2\n",
      "101 101 1\n",
      "010 101 2\n",
      "000 011 1\n",
      "000 011 1\n",
      "000 011 1\n",
      "001 011 2\n",
      "010 011 1\n",
      "101 011 2\n",
      "010 011 1\n",
      "101 011 2\n",
      "001 111 1\n",
      "101 111 1\n",
      "101 111 1\n",
      "011 111 1\n",
      "011 111 2\n",
      "001 111 1\n",
      "101 111 1\n",
      "101 111 1\n",
      "011 111 1\n",
      "011 111 2\n",
      "111 111 1\n",
      "111 111 2\n",
      "001 111 1\n",
      "101 111 1\n",
      "101 111 1\n",
      "011 111 1\n",
      "011 111 2\n",
      "111 111 1\n",
      "111 111 2\n",
      "111 111 1\n",
      "111 111 2\n",
      "001 110 1\n",
      "101 110 1\n",
      "101 110 1\n",
      "011 110 1\n",
      "011 110 2\n",
      "111 110 1\n",
      "111 110 2\n",
      "111 110 1\n",
      "111 110 2\n",
      "111 110 1\n",
      "111 110 2\n",
      "001 100 1\n",
      "010 100 2\n",
      "101 100 1\n",
      "010 100 2\n",
      "101 100 1\n",
      "011 100 1\n",
      "111 100 1\n",
      "111 100 1\n",
      "111 100 1\n",
      "110 100 2\n"
     ]
    }
   ],
   "source": [
    "import itertools as it\n",
    "k = 2\n",
    "n = 3\n",
    "w = '0000010101111100'\n",
    "options = {\n",
    "    'bgcolor': '#222222',\n",
    "    'height': '800px',\n",
    "    'width': '100%'\n",
    "}\n",
    "alphabet = [str(_) for _ in range(k)]\n",
    "nodes = [''.join(tup) for tup in list(it.product(alphabet, repeat=n))]\n",
    "net = Network(notebook=True, **options)\n",
    "net.toggle_physics(False)\n",
    "for node in nodes:\n",
    "    net.add_node(node, color='white', shape='circle')\n",
    "for i in range(0, len(w)-n+1):\n",
    "    right = w[i:i+3]\n",
    "    for j in range(0, i):\n",
    "        left = w[j:j+3]\n",
    "        for k in range(1, n):\n",
    "            if left[-k:] == right[:k]:\n",
    "                print(left, right, k)\n",
    "                net.add_edge(w[i:i+3], w[j:j+n], color='green', label=str(k))"
   ]
  },
  {
   "cell_type": "code",
   "execution_count": 49,
   "metadata": {},
   "outputs": [
    {
     "data": {
      "text/html": [
       "\n",
       "        <iframe\n",
       "            width=\"100%\"\n",
       "            height=\"800px\"\n",
       "            src=\"example.html\"\n",
       "            frameborder=\"0\"\n",
       "            allowfullscreen\n",
       "        ></iframe>\n",
       "        "
      ],
      "text/plain": [
       "<IPython.lib.display.IFrame at 0x1141fec88>"
      ]
     },
     "execution_count": 49,
     "metadata": {},
     "output_type": "execute_result"
    }
   ],
   "source": [
    "net.show('example.html')"
   ]
  },
  {
   "cell_type": "code",
   "execution_count": 52,
   "metadata": {},
   "outputs": [
    {
     "name": "stdout",
     "output_type": "stream",
     "text": [
      "000 000 1\n",
      "000 000 2\n",
      "000 000 1\n",
      "000 000 2\n",
      "000 000 1\n",
      "000 000 2\n",
      "000 001 1\n",
      "000 001 2\n",
      "000 001 1\n",
      "000 001 2\n",
      "000 010 1\n",
      "001 010 2\n",
      "001 101 1\n",
      "010 101 2\n",
      "010 010 1\n",
      "101 010 2\n",
      "101 101 1\n",
      "010 101 2\n",
      "010 011 1\n",
      "101 011 2\n",
      "101 111 1\n",
      "011 111 1\n",
      "011 111 2\n",
      "011 111 1\n",
      "011 111 2\n",
      "111 111 1\n",
      "111 111 2\n",
      "111 111 1\n",
      "111 111 2\n",
      "111 111 1\n",
      "111 111 2\n",
      "111 110 1\n",
      "111 110 2\n",
      "111 110 1\n",
      "111 110 2\n",
      "111 100 1\n",
      "110 100 2\n"
     ]
    }
   ],
   "source": [
    "net = Network(notebook=True, **options)\n",
    "net.toggle_physics(False)\n",
    "for node in nodes:\n",
    "    net.add_node(node, color='white', shape='circle')\n",
    "for i in range(0, len(w)-n+1):\n",
    "    right = w[i:i+3]\n",
    "    for j in range(max(i-n+1, 0), i):\n",
    "        left = w[j:j+3]\n",
    "        for k in range(1, n):\n",
    "            if left[-k:] == right[:k]:\n",
    "                print(left, right, k)\n",
    "                net.add_edge(w[i:i+3], w[j:j+n], color='green', label=str(k))"
   ]
  },
  {
   "cell_type": "code",
   "execution_count": 53,
   "metadata": {},
   "outputs": [
    {
     "data": {
      "text/html": [
       "\n",
       "        <iframe\n",
       "            width=\"100%\"\n",
       "            height=\"800px\"\n",
       "            src=\"example.html\"\n",
       "            frameborder=\"0\"\n",
       "            allowfullscreen\n",
       "        ></iframe>\n",
       "        "
      ],
      "text/plain": [
       "<IPython.lib.display.IFrame at 0x11337aa58>"
      ]
     },
     "execution_count": 53,
     "metadata": {},
     "output_type": "execute_result"
    }
   ],
   "source": [
    "net.show('example.html')"
   ]
  },
  {
   "cell_type": "code",
   "execution_count": null,
   "metadata": {},
   "outputs": [],
   "source": []
  }
 ],
 "metadata": {
  "kernelspec": {
   "display_name": "Python 3",
   "language": "python",
   "name": "python3"
  },
  "language_info": {
   "codemirror_mode": {
    "name": "ipython",
    "version": 3
   },
   "file_extension": ".py",
   "mimetype": "text/x-python",
   "name": "python",
   "nbconvert_exporter": "python",
   "pygments_lexer": "ipython3",
   "version": "3.7.3"
  },
  "toc": {
   "base_numbering": 1,
   "nav_menu": {},
   "number_sections": true,
   "sideBar": true,
   "skip_h1_title": false,
   "title_cell": "Table of Contents",
   "title_sidebar": "Contents",
   "toc_cell": false,
   "toc_position": {},
   "toc_section_display": true,
   "toc_window_display": true
  }
 },
 "nbformat": 4,
 "nbformat_minor": 4
}
